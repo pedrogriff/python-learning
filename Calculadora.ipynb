{
 "cells": [
  {
   "cell_type": "code",
   "execution_count": 9,
   "id": "f6a27676",
   "metadata": {},
   "outputs": [
    {
     "name": "stdout",
     "output_type": "stream",
     "text": [
      "0 : Soma\n",
      "1 : Subtração\n",
      "2 : Multiplicação\n",
      "3 : Divisão\n",
      "4 : Exponenciação\n",
      "\n",
      " Escolha a operação que deseja realizar:\n",
      "2\n",
      "Qual o primeiro valor?\n",
      "3\n",
      "Qual o segundo valor?\n",
      "9\n",
      "\n",
      "Operação de Multiplicação escolhida\n",
      "\n",
      "\n",
      "3 * 9 = 27\n"
     ]
    }
   ],
   "source": [
    "print(\"0 : Soma\")\n",
    "print(\"1 : Subtração\")\n",
    "print(\"2 : Multiplicação\")\n",
    "print(\"3 : Divisão\")\n",
    "print(\"4 : Exponenciação\")\n",
    "print(\"\\nEscolha a operação que deseja realizar:\")\n",
    "operacao = int(input())\n",
    "print(\"Qual o primeiro valor?\")\n",
    "a = int(input())\n",
    "print(\"Qual o segundo valor?\")\n",
    "b = int(input())\n",
    "if operacao == 0:\n",
    "    print(\"\\nOperação de Soma escolhida\\n\")\n",
    "    r = a + b\n",
    "    print(\"\\n{} + {} = {}\".format(a, b, r))\n",
    "elif operacao == 1:\n",
    "    print(\"\\nOperação de Subtração escolhida\\n\")\n",
    "    r = a - b\n",
    "    print(\"\\n{} - {} = {}\".format(a, b, r))\n",
    "elif operacao == 2:\n",
    "    print(\"\\nOperação de Multiplicação escolhida\\n\")\n",
    "    r = a * b\n",
    "    print(\"\\n{} * {} = {}\".format(a, b, r))\n",
    "elif operacao == 3:\n",
    "    print(\"\\nOperação de Divisão escolhida\\n\")\n",
    "    r = a / b\n",
    "    print(\"\\n{} / {} = {}\".format(a, b, r))\n",
    "elif operacao == 4:\n",
    "    print(\"\\nOperação de Exponenciação escolhida\\n\")\n",
    "    r = a ** b\n",
    "    print(\"\\n{} ** {} = {}\".format(a, b, r))\n",
    "else:\n",
    "    print(\"Opção Inválida\")"
   ]
  },
  {
   "cell_type": "code",
   "execution_count": null,
   "id": "724ff2b7",
   "metadata": {},
   "outputs": [],
   "source": []
  }
 ],
 "metadata": {
  "kernelspec": {
   "display_name": "Python 3 (ipykernel)",
   "language": "python",
   "name": "python3"
  },
  "language_info": {
   "codemirror_mode": {
    "name": "ipython",
    "version": 3
   },
   "file_extension": ".py",
   "mimetype": "text/x-python",
   "name": "python",
   "nbconvert_exporter": "python",
   "pygments_lexer": "ipython3",
   "version": "3.9.12"
  }
 },
 "nbformat": 4,
 "nbformat_minor": 5
}

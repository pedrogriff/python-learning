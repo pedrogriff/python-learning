{
 "cells": [
  {
   "cell_type": "markdown",
   "metadata": {},
   "source": [
    "____________________________________________\n",
    "\n",
    "## Exercícios #1 - Estruturas de dados\n"
   ]
  },
  {
   "cell_type": "markdown",
   "metadata": {},
   "source": [
    "### Exercício 1\n",
    "Utilizando o built-in method input(), crie um programa que receba a altura e o peso de uma pessoa e imprima na tela o IMC da mesma."
   ]
  },
  {
   "cell_type": "code",
   "execution_count": 14,
   "metadata": {},
   "outputs": [
    {
     "name": "stdout",
     "output_type": "stream",
     "text": [
      "Digite a altura: 1.8\n",
      "Digite o peso: 80\n",
      "O IMC desta pessoa é  24.691358024691358\n"
     ]
    }
   ],
   "source": [
    "a = input(\"Digite a altura: \")\n",
    "p = input(\"Digite o peso: \")\n",
    "a = float(a)*float(a)\n",
    "print(\"O IMC desta pessoa é \", float(p)/float(a))"
   ]
  },
  {
   "cell_type": "markdown",
   "metadata": {},
   "source": [
    "### Exercício 2 \n",
    "Escreva um programa que pergunte o nome completo do usuário e cumprimente o mesmo pelo primeiro nome."
   ]
  },
  {
   "cell_type": "code",
   "execution_count": 18,
   "metadata": {},
   "outputs": [
    {
     "name": "stdout",
     "output_type": "stream",
     "text": [
      "Qual seu nome completo?Pedro Griff\n",
      "Olá  Pedro\n"
     ]
    }
   ],
   "source": [
    "nome = input(\"Qual seu nome completo? \")\n",
    "print(\"Olá\", nome.split()[0])"
   ]
  },
  {
   "cell_type": "markdown",
   "metadata": {},
   "source": [
    "### Exercício 3\n",
    "Desenho um código que extraia o domínio de um e-mail informado."
   ]
  },
  {
   "cell_type": "code",
   "execution_count": 19,
   "metadata": {},
   "outputs": [
    {
     "name": "stdout",
     "output_type": "stream",
     "text": [
      "Digite o emailmarcincowski@gmail.com\n",
      "O domínio do email é gmail.com\n"
     ]
    }
   ],
   "source": [
    "email = input(\"Digite o email: \")\n",
    "print(\"O domínio do email é\", email.split(\"@\")[1])"
   ]
  },
  {
   "cell_type": "markdown",
   "metadata": {},
   "source": [
    "### Exercício 4 \n",
    "Faça um programa para uma loja de tintas. A pessoa informa a área em m2 que deseja pintar, e o script calculará a quantidade de latas de tinta que a pessoa deve comprar e o valor. Considere que cada litro de tinta pinta 3m2, que cada lata contém 18L e que custa R$ 80."
   ]
  },
  {
   "cell_type": "code",
   "execution_count": 38,
   "metadata": {},
   "outputs": [
    {
     "name": "stdout",
     "output_type": "stream",
     "text": [
      "Informe a área a ser pintada: 500\n",
      "Você precisará de 10 latas de tinta e seu custo será de R$ 800\n"
     ]
    }
   ],
   "source": [
    "area = input(\"Informe a área a ser pintada: \")\n",
    "pinta = 18*3\n",
    "latas = float(area)/float(pinta)\n",
    "custo = int(latas+1) * 80\n",
    "if (latas <= 1):\n",
    "    print(\"Você precisará de 1 lata e seu custo é de R$ 80.00.\")\n",
    "else :\n",
    "    print(\"Você precisará de {} latas de tinta e seu custo será de R$ {}\".format(int(latas+1), custo))"
   ]
  },
  {
   "cell_type": "markdown",
   "metadata": {},
   "source": [
    "### Exercício 5\n",
    "Faça um Programa que pergunte quanto você ganha por hora e o número de horas trabalhadas no mês. Calcule e mostre o total do seu salário no referido mês, sabendo-se que são descontados 11% para o Imposto de Renda, 8% para o INSS e 5% para o sindicato, faça um programa que nos dê:\n",
    "1. Salário bruto.\n",
    "2. Quanto pagou ao INSS.\n",
    "3. Quanto pagou ao sindicato.\n",
    "4. O salário líquido."
   ]
  },
  {
   "cell_type": "code",
   "execution_count": 39,
   "metadata": {},
   "outputs": [
    {
     "name": "stdout",
     "output_type": "stream",
     "text": [
      "Quanto ganha por hora? 200\n",
      "Quantas horas trabalha no mês? 220\n",
      "Seu salário bruto é de 44000.0\n",
      "Você pagou ao INSS R$ 3520.0\n",
      "Você pagou ao sindicato R$ 2200.0\n",
      "Seu salário líquido é de R$ 33440.0\n"
     ]
    }
   ],
   "source": [
    "taxa_hora = input(\"Quanto ganha por hora? \")\n",
    "horas_mes = input(\"Quantas horas trabalha no mês? \")\n",
    "salario_bruto = float(taxa_hora) * int(horas_mes)\n",
    "inss = salario_bruto * 0.08\n",
    "ir = salario_bruto * 0.11\n",
    "sindicato = salario_bruto * 0.05\n",
    "print(\"Seu salário bruto é de\", salario_bruto)\n",
    "print(\"Você pagou ao INSS R$\", inss)\n",
    "print(\"Você pagou ao sindicato R$\", sindicato)\n",
    "print(\"Seu salário líquido é de R$\",float(salario_bruto - inss - ir - sindicato))"
   ]
  },
  {
   "cell_type": "code",
   "execution_count": null,
   "metadata": {},
   "outputs": [],
   "source": []
  }
 ],
 "metadata": {
  "kernelspec": {
   "display_name": "Python 3 (ipykernel)",
   "language": "python",
   "name": "python3"
  },
  "language_info": {
   "codemirror_mode": {
    "name": "ipython",
    "version": 3
   },
   "file_extension": ".py",
   "mimetype": "text/x-python",
   "name": "python",
   "nbconvert_exporter": "python",
   "pygments_lexer": "ipython3",
   "version": "3.9.12"
  }
 },
 "nbformat": 4,
 "nbformat_minor": 4
}
